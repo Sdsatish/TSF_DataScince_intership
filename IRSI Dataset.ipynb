{
 "cells": [
  {
   "cell_type": "markdown",
   "id": "d1808060",
   "metadata": {},
   "source": [
    "# The Sparks Foundation"
   ]
  },
  {
   "cell_type": "markdown",
   "id": "093ba922",
   "metadata": {},
   "source": [
    "### Internship Period : GRIPOCTOBER21"
   ]
  },
  {
   "cell_type": "markdown",
   "id": "49cda18b",
   "metadata": {},
   "source": [
    "## Task : Preduction Using UnSupervised ML"
   ]
  },
  {
   "cell_type": "markdown",
   "id": "23b5d14f",
   "metadata": {},
   "source": [
    "#### Aim : Find optium numbers of clusters to perform Kmeans clustering And represent visually"
   ]
  },
  {
   "cell_type": "markdown",
   "id": "abd3f7e4",
   "metadata": {},
   "source": [
    "# Author : Satish Dixit"
   ]
  },
  {
   "cell_type": "code",
   "execution_count": 9,
   "id": "1458b17a",
   "metadata": {},
   "outputs": [],
   "source": [
    "#importing Required Libraries\n",
    "import pandas as pd\n",
    "import numpy as np\n",
    "import sklearn.metrics as met\n",
    "from sklearn.datasets import load_iris\n",
    "import matplotlib.pyplot as plt\n",
    "from sklearn.preprocessing import StandardScaler\n"
   ]
  },
  {
   "cell_type": "code",
   "execution_count": 47,
   "id": "5bd64d88",
   "metadata": {},
   "outputs": [],
   "source": [
    "#loading Iris dataset\n",
    "data=load_iris()"
   ]
  },
  {
   "cell_type": "code",
   "execution_count": 3,
   "id": "5bf1e2fa",
   "metadata": {},
   "outputs": [],
   "source": [
    "#Creating Dataframe\n",
    "df1= pd.DataFrame(data['data'], columns= data['feature_names'])"
   ]
  },
  {
   "cell_type": "code",
   "execution_count": 5,
   "id": "acecf673",
   "metadata": {},
   "outputs": [
    {
     "data": {
      "text/html": [
       "<div>\n",
       "<style scoped>\n",
       "    .dataframe tbody tr th:only-of-type {\n",
       "        vertical-align: middle;\n",
       "    }\n",
       "\n",
       "    .dataframe tbody tr th {\n",
       "        vertical-align: top;\n",
       "    }\n",
       "\n",
       "    .dataframe thead th {\n",
       "        text-align: right;\n",
       "    }\n",
       "</style>\n",
       "<table border=\"1\" class=\"dataframe\">\n",
       "  <thead>\n",
       "    <tr style=\"text-align: right;\">\n",
       "      <th></th>\n",
       "      <th>sepal length (cm)</th>\n",
       "      <th>sepal width (cm)</th>\n",
       "      <th>petal length (cm)</th>\n",
       "      <th>petal width (cm)</th>\n",
       "    </tr>\n",
       "  </thead>\n",
       "  <tbody>\n",
       "    <tr>\n",
       "      <th>0</th>\n",
       "      <td>5.1</td>\n",
       "      <td>3.5</td>\n",
       "      <td>1.4</td>\n",
       "      <td>0.2</td>\n",
       "    </tr>\n",
       "    <tr>\n",
       "      <th>1</th>\n",
       "      <td>4.9</td>\n",
       "      <td>3.0</td>\n",
       "      <td>1.4</td>\n",
       "      <td>0.2</td>\n",
       "    </tr>\n",
       "    <tr>\n",
       "      <th>2</th>\n",
       "      <td>4.7</td>\n",
       "      <td>3.2</td>\n",
       "      <td>1.3</td>\n",
       "      <td>0.2</td>\n",
       "    </tr>\n",
       "    <tr>\n",
       "      <th>3</th>\n",
       "      <td>4.6</td>\n",
       "      <td>3.1</td>\n",
       "      <td>1.5</td>\n",
       "      <td>0.2</td>\n",
       "    </tr>\n",
       "    <tr>\n",
       "      <th>4</th>\n",
       "      <td>5.0</td>\n",
       "      <td>3.6</td>\n",
       "      <td>1.4</td>\n",
       "      <td>0.2</td>\n",
       "    </tr>\n",
       "    <tr>\n",
       "      <th>5</th>\n",
       "      <td>5.4</td>\n",
       "      <td>3.9</td>\n",
       "      <td>1.7</td>\n",
       "      <td>0.4</td>\n",
       "    </tr>\n",
       "  </tbody>\n",
       "</table>\n",
       "</div>"
      ],
      "text/plain": [
       "   sepal length (cm)  sepal width (cm)  petal length (cm)  petal width (cm)\n",
       "0                5.1               3.5                1.4               0.2\n",
       "1                4.9               3.0                1.4               0.2\n",
       "2                4.7               3.2                1.3               0.2\n",
       "3                4.6               3.1                1.5               0.2\n",
       "4                5.0               3.6                1.4               0.2\n",
       "5                5.4               3.9                1.7               0.4"
      ]
     },
     "execution_count": 5,
     "metadata": {},
     "output_type": "execute_result"
    }
   ],
   "source": [
    "df1.head(6)"
   ]
  },
  {
   "cell_type": "code",
   "execution_count": null,
   "id": "0a54723d",
   "metadata": {},
   "outputs": [],
   "source": [
    "#"
   ]
  },
  {
   "cell_type": "markdown",
   "id": "2c43a0bb",
   "metadata": {},
   "source": [
    "###  Finding Optimum Number Of clusters  for K-Means Classification"
   ]
  },
  {
   "cell_type": "code",
   "execution_count": 13,
   "id": "c8d57ae2",
   "metadata": {},
   "outputs": [
    {
     "name": "stderr",
     "output_type": "stream",
     "text": [
      "C:\\ProgramData\\Anaconda3\\lib\\site-packages\\sklearn\\cluster\\_kmeans.py:881: UserWarning: KMeans is known to have a memory leak on Windows with MKL, when there are less chunks than available threads. You can avoid it by setting the environment variable OMP_NUM_THREADS=1.\n",
      "  warnings.warn(\n"
     ]
    },
    {
     "data": {
      "image/png": "[encoded data removed]",
      "text/plain": [
       "<Figure size 432x288 with 1 Axes>"
      ]
     },
     "metadata": {
      "needs_background": "light"
     },
     "output_type": "display_data"
    }
   ],
   "source": [
    "# firstly we extract all the columns to use to find clusters\n",
    "x= df1.iloc[:,[0,1,2,3]].values\n",
    "\n",
    "from sklearn.cluster import KMeans\n",
    "wcss=[]\n",
    "for i in range(1,11):\n",
    "    kmeans=KMeans(init='k-means++',n_clusters=i,n_init=10,max_iter=300,random_state=0)\n",
    "    kmeans.fit(x)\n",
    "    wcss.append(kmeans.inertia_)\n",
    "    \n",
    "#optium number of clusters would be obtained at the elbow point\n",
    "#lets plot a line graph of the results obtained and look for the elbow point\n",
    "\n",
    "plt.plot(range(1,11),wcss)\n",
    "plt.title(\"Elbow Method\")\n",
    "plt.xlabel(\"Number of Clusters\")\n",
    "plt.ylabel(\"wcss\")\n",
    "plt.show()"
   ]
  },
  {
   "cell_type": "code",
   "execution_count": null,
   "id": "d51ff58e",
   "metadata": {},
   "outputs": [],
   "source": [
    "#At the optimum number of clusters the WSCC does not decrease significantly with each iteration.\n",
    "#OPtimum number of clusters appears at the Elbow Point."
   ]
  },
  {
   "cell_type": "markdown",
   "id": "ac512ccf",
   "metadata": {},
   "source": [
    "####  WE Clearly See that here using elbo method , The optimum number of clusters is 3 for the kmeans clustiring"
   ]
  },
  {
   "cell_type": "markdown",
   "id": "cbe9c690",
   "metadata": {},
   "source": [
    "### Applying Kmeans Clustering on the dataset "
   ]
  },
  {
   "cell_type": "code",
   "execution_count": 14,
   "id": "72dc9fdb",
   "metadata": {},
   "outputs": [],
   "source": [
    "#Creating Kmeans Classifiear\n",
    "kmeans=KMeans(init='k-means++',n_clusters=i,n_init=10,max_iter=300,random_state=0)\n",
    "y=kmeans.fit_predict(x)\n"
   ]
  },
  {
   "cell_type": "markdown",
   "id": "26538271",
   "metadata": {},
   "source": [
    "## Visualizating the clusters"
   ]
  },
  {
   "cell_type": "markdown",
   "id": "4da7bfe4",
   "metadata": {},
   "source": [
    "### Firstly we plot all 3 clusters indivusally using subplot property."
   ]
  },
  {
   "cell_type": "code",
   "execution_count": 50,
   "id": "3eb5f518",
   "metadata": {},
   "outputs": [
    {
     "data": {
      "text/plain": [
       "Text(0.5, 1.0, 'Iris-verginica')"
      ]
     },
     "execution_count": 50,
     "metadata": {},
     "output_type": "execute_result"
    },
    {
     "data": {
      "image/png": "[encoded data removed]",
      "text/plain": [
       "<Figure size 1152x360 with 3 Axes>"
      ]
     },
     "metadata": {
      "needs_background": "light"
     },
     "output_type": "display_data"
    }
   ],
   "source": [
    "plt.figure(figsize=(16,5))\n",
    "plt.subplot(1,3,1) \n",
    "plt.scatter(x[y==0,0], x[y==0,1],c='red',s=100) \n",
    "plt.title(\"Iris_Satosa\")\n",
    "plt.subplot(1,3,2) \n",
    "plt.scatter(x[y==1,0], x[y==1,1],c='blue',s=100)\n",
    "plt.title(\"Iris_versicolor\")\n",
    "plt.subplot(1,3,3)\n",
    "plt.scatter(x[y==2,0], x[y==2,1],c='green',s=100) \n",
    "plt.title(\"Iris-verginica\") \n",
    "#plt.scatter(kmeans.cluster_centers_[:,0],kmeans.cluster_centers_[:,1],c='yellow',s=50,label=\"centroid\")\n",
    "#plt.legend()"
   ]
  },
  {
   "cell_type": "code",
   "execution_count": 42,
   "id": "bda18385",
   "metadata": {},
   "outputs": [
    {
     "data": {
      "text/plain": [
       "<matplotlib.legend.Legend at 0xe538730>"
      ]
     },
     "execution_count": 42,
     "metadata": {},
     "output_type": "execute_result"
    },
    {
     "data": {
      "image/png": "[encoded data removed]",
      "text/plain": [
       "<Figure size 1080x504 with 1 Axes>"
      ]
     },
     "metadata": {
      "needs_background": "light"
     },
     "output_type": "display_data"
    }
   ],
   "source": [
    "# final plot combing all three clusters into one figure that indicates how they separates each other.\n",
    "plt.figure(figsize=(15,7))\n",
    "plt.title(\"Iris_ Clusters\")\n",
    "plt.scatter(x[y==0,0], x[y==0,1],c='blue',s=100, label='Iris-saotosa')\n",
    "plt.scatter(x[y==1,0], x[y==1,1],c='red',s=100, label='Iris_verginca')\n",
    "plt.scatter(x[y==2,0], x[y==2,1],c='green',s=100, label='Iris-Versicolor')\n",
    "plt.scatter(kmeans.cluster_centers_[:,0],kmeans.cluster_centers_[:,1],c='yellow',s=200,label=\"centroid\")\n",
    "plt.legend()"
   ]
  },
  {
   "cell_type": "code",
   "execution_count": null,
   "id": "ec4bab62",
   "metadata": {},
   "outputs": [],
   "source": []
  },
  {
   "cell_type": "code",
   "execution_count": null,
   "id": "61f84348",
   "metadata": {},
   "outputs": [],
   "source": []
  },
  {
   "cell_type": "code",
   "execution_count": null,
   "id": "26b8c8b2",
   "metadata": {},
   "outputs": [],
   "source": []
  },
  {
   "cell_type": "code",
   "execution_count": null,
   "id": "5ab68061",
   "metadata": {},
   "outputs": [],
   "source": []
  },
  {
   "cell_type": "code",
   "execution_count": null,
   "id": "a5d17854",
   "metadata": {},
   "outputs": [],
   "source": []
  },
  {
   "cell_type": "code",
   "execution_count": null,
   "id": "a061bea0",
   "metadata": {},
   "outputs": [],
   "source": [
    "\n"
   ]
  },
  {
   "cell_type": "code",
   "execution_count": null,
   "id": "d3b9e2c1",
   "metadata": {},
   "outputs": [],
   "source": []
  },
  {
   "cell_type": "code",
   "execution_count": null,
   "id": "d247dcb3",
   "metadata": {},
   "outputs": [],
   "source": []
  },
  {
   "cell_type": "code",
   "execution_count": null,
   "id": "392c60f5",
   "metadata": {},
   "outputs": [],
   "source": []
  },
  {
   "cell_type": "code",
   "execution_count": null,
   "id": "405acbe2",
   "metadata": {},
   "outputs": [],
   "source": []
  },
  {
   "cell_type": "code",
   "execution_count": null,
   "id": "dbabd185",
   "metadata": {},
   "outputs": [],
   "source": []
  },
  {
   "cell_type": "markdown",
   "id": "8a2c21ef",
   "metadata": {},
   "source": [
    "## firstly we plot all 3 clusters indivusally  using subplot property.\n",
    "plt.figure(figsize=(16,5))\n",
    "plt.subplot(1,3,1)\n",
    "plt.scatter(x[y==0,0], x[y==0,1],c='red',s=100)\n",
    "plt.title(\"Iris_Satosa\")\n",
    "plt.subplot(1,3,2)\n",
    "plt.scatter(x[y==1,0], x[y==1,1],c='blue',s=100)\n",
    "plt.title(\"Iris_versicolor\")\n",
    "plt.subplot(1,3,3)\n",
    "plt.scatter(x[y==2,0], x[y==2,1],c='green',s=100)\n",
    "plt.title(\"Iris-verginica\")\n",
    "#plt.scatter(kmeans.cluster_centers_[:,0],kmeans.cluster_centers_[:,1],c='yellow',s=50,label=\"centroid\")\n",
    "#plt.legend()"
   ]
  }
 ],
 "metadata": {
  "kernelspec": {
   "display_name": "Python 3",
   "language": "python",
   "name": "python3"
  },
  "language_info": {
   "codemirror_mode": {
    "name": "ipython",
    "version": 3
   },
   "file_extension": ".py",
   "mimetype": "text/x-python",
   "name": "python",
   "nbconvert_exporter": "python",
   "pygments_lexer": "ipython3",
   "version": "3.8.8"
  }
 },
 "nbformat": 4,
 "nbformat_minor": 5
}
